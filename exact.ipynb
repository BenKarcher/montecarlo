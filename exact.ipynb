{
 "cells": [
  {
   "cell_type": "code",
   "execution_count": 4,
   "metadata": {},
   "outputs": [],
   "source": [
    "import itertools as it\n",
    "import numpy as np\n",
    "import matplotlib.pyplot as plt\n",
    "import scipy as sp"
   ]
  },
  {
   "cell_type": "code",
   "execution_count": 5,
   "metadata": {},
   "outputs": [],
   "source": [
    "def make_basis(n):\n",
    "    basis=list(it.product([-1/2,1/2],repeat=n))\n",
    "    inv={v:k for k,v in enumerate(basis)}\n",
    "    return basis,inv\n",
    "\n",
    "def get_bonds(width, height):\n",
    "    if width%2!=0 or height%2!=0:\n",
    "        raise ValueError(\"width and height must be even\")\n",
    "    bonds=[]\n",
    "    for i in range(width):\n",
    "        for j in range(height):\n",
    "            i2,j2=(i+1)%width,j\n",
    "            bonds.append((i+j*width,i2+j2*width,\"j2\"))\n",
    "            i2,j2=i,(j+1)%height\n",
    "            bonds.append((i+j*width,i2+j2*width,(\"j1\" if j%2==0 else \"j2\")))\n",
    "    return bonds\n",
    "\n",
    "def make_H(width, height, j1):\n",
    "    basis,inv=make_basis(width*height)\n",
    "    bonds=get_bonds(width,height)\n",
    "    rows=[]\n",
    "    cols=[]\n",
    "    data=[]\n",
    "    for c,ket in enumerate(basis):\n",
    "        diag=0\n",
    "        for i,j,kind in bonds:\n",
    "            #diagonal term\n",
    "            if kind==\"j1\":\n",
    "                diag+=ket[i]*ket[j]*j1\n",
    "            elif kind==\"j2\":\n",
    "                diag+=ket[i]*ket[j]\n",
    "            #off-diagonal term\n",
    "            if ket[i]!=ket[j]:\n",
    "                bra=list(ket)\n",
    "                bra[i],bra[j]=bra[j],bra[i]\n",
    "                r=inv[tuple(bra)]\n",
    "                rows.append(r)\n",
    "                cols.append(c)\n",
    "                data.append((1 if kind==\"j1\" else j1)/2)\n",
    "        rows.append(c)\n",
    "        cols.append(c)\n",
    "        data.append(diag)\n",
    "    return sp.sparse.csr_matrix((data,(rows,cols)),shape=(len(basis),len(basis)))\n",
    "def make_M(width, height):\n",
    "    basis,inv=make_basis(width*height)\n",
    "    rows=[]\n",
    "    cols=[]\n",
    "    data=[]\n",
    "    for c,ket in enumerate(basis):\n",
    "        value=0\n",
    "        for x in range(width):\n",
    "            for y in range(height):\n",
    "                value+=ket[x+y*width]*(-1)**(x+y)\n",
    "        rows.append(c)\n",
    "        cols.append(c)\n",
    "        data.append(value)\n",
    "    return sp.sparse.csr_matrix((data,(rows,cols)),shape=(len(basis),len(basis)))  \n",
    "\n",
    "def make_H_dense(width, height, j1):\n",
    "    basis,inv=make_basis(width*height)\n",
    "    bonds=get_bonds(width,height)\n",
    "    H=np.zeros((len(basis),len(basis)))\n",
    "    for c,ket in enumerate(basis):\n",
    "        diag=0\n",
    "        for i,j,kind in bonds:\n",
    "            #diagonal term\n",
    "            if kind==\"j1\":\n",
    "                diag+=ket[i]*ket[j]*j1\n",
    "            elif kind==\"j2\":\n",
    "                diag+=ket[i]*ket[j]\n",
    "            #off-diagonal term\n",
    "            if ket[i]!=ket[j]:\n",
    "                bra=list(ket)\n",
    "                bra[i],bra[j]=bra[j],bra[i]\n",
    "                r=inv[tuple(bra)]\n",
    "                H[r,c]+=((1 if kind==\"j1\" else j1)/2)\n",
    "        H[c,c]+=diag\n",
    "    return H\n",
    "\n",
    "def make_M_dense(width, height):\n",
    "    basis,inv=make_basis(width*height)\n",
    "    M=np.zeros((len(basis),len(basis)))\n",
    "    for c,ket in enumerate(basis):\n",
    "        value=0\n",
    "        for x in range(width):\n",
    "            for y in range(height):\n",
    "                value+=ket[x+y*width]*(-1)**(x+y)\n",
    "        M[c,c]+=value\n",
    "    return sp.sparse.csr_matrix((data,(rows,cols)),shape=(len(basis),len(basis)))  "
   ]
  },
  {
   "cell_type": "code",
   "execution_count": 6,
   "metadata": {},
   "outputs": [],
   "source": [
    "def staggered_magnetization(width, height, beta, j1):\n",
    "    H=make_H(width,height,j1).todense()\n",
    "    M=make_M(width,height).todense()\n",
    "    eigvals,eigvecs=np.linalg.eigh(H)\n",
    "    Z=np.sum(np.exp(-beta*eigvals))\n",
    "    rho=np.exp(-beta*eigvals)/Z\n",
    "    total=0\n",
    "    for vec,r in zip(eigvecs.T,rho):\n",
    "        total+=np.conjugate(vec)@M@vec.T*r\n",
    "    return float(total)"
   ]
  },
  {
   "cell_type": "code",
   "execution_count": 15,
   "metadata": {},
   "outputs": [
    {
     "name": "stdout",
     "output_type": "stream",
     "text": [
      "0.9999999999999999\n",
      "1.0000000000000002\n",
      "0.9999999999999998\n",
      "1.0\n",
      "0.9999999999999999\n",
      "1.0\n",
      "1.0\n",
      "0.9999999999999998\n",
      "0.9999999999999999\n",
      "0.9999999999999994\n",
      "1.0000000000000002\n",
      "1.0000000000000002\n",
      "0.9999999999999997\n",
      "1.0\n",
      "1.0\n",
      "0.9999999999999997\n"
     ]
    },
    {
     "name": "stderr",
     "output_type": "stream",
     "text": [
      "/tmp/ipykernel_4416/648316310.py:12: DeprecationWarning: Conversion of an array with ndim > 0 to a scalar is deprecated, and will error in future. Ensure you extract a single element from your array before performing this operation. (Deprecated NumPy 1.25.)\n",
      "  float(total)\n"
     ]
    }
   ],
   "source": [
    "H=make_H(2,2,1).todense()\n",
    "M=make_M(2,2).todense()\n",
    "eigvals,eigvecs=np.linalg.eigh(H)\n",
    "#normalize the eigen vectors\n",
    "#eigvecs/=np.linalg.norm(eigvecs,axis=0)\n",
    "beta=12\n",
    "Z=np.sum(np.exp(-beta*eigvals))\n",
    "rho=np.exp(-beta*eigvals)/Z\n",
    "total=0\n",
    "for vec,r in zip(eigvecs.T,rho):\n",
    "    total+=np.conjugate(vec)@M@vec.T*r\n",
    "float(total)\n",
    "for vec in eigvecs.T:\n",
    "    print(np.linalg.norm(vec))"
   ]
  },
  {
   "cell_type": "code",
   "execution_count": 7,
   "metadata": {},
   "outputs": [
    {
     "name": "stdout",
     "output_type": "stream",
     "text": [
      "[-2.1154191471345034e-23, -3.3306690738754765e-16, -2.220446049250313e-16, 1.4568615059709393e-50, -2.220446049250313e-16, 1.680581932358368e-69, -1.2107641526325533e-79, 2.220446049250313e-16, -4.440892098500626e-16, 4.440892098500626e-16, 2.220446049250313e-16, -4.440892098500626e-16, nan, nan, nan, nan, nan, nan, nan, nan, nan, nan, nan, nan, nan, nan, nan, nan, nan, nan, nan, nan, nan, nan, nan, nan, nan, nan, nan, nan, nan, nan, nan, nan, nan, nan, nan, nan, nan, nan]\n"
     ]
    },
    {
     "name": "stderr",
     "output_type": "stream",
     "text": [
      "/tmp/ipykernel_4416/84633176.py:10: DeprecationWarning: Conversion of an array with ndim > 0 to a scalar is deprecated, and will error in future. Ensure you extract a single element from your array before performing this operation. (Deprecated NumPy 1.25.)\n",
      "  return float(total)\n",
      "/tmp/ipykernel_4416/84633176.py:5: RuntimeWarning: overflow encountered in exp\n",
      "  Z=np.sum(np.exp(-beta*eigvals))\n",
      "/tmp/ipykernel_4416/84633176.py:6: RuntimeWarning: overflow encountered in exp\n",
      "  rho=np.exp(-beta*eigvals)/Z\n",
      "/tmp/ipykernel_4416/84633176.py:6: RuntimeWarning: invalid value encountered in divide\n",
      "  rho=np.exp(-beta*eigvals)/Z\n"
     ]
    },
    {
     "data": {
      "image/png": "[encoded data removed]",
      "text/plain": [
       "<Figure size 640x480 with 1 Axes>"
      ]
     },
     "metadata": {},
     "output_type": "display_data"
    }
   ],
   "source": [
    "js=np.linspace(0,100,50)\n",
    "beta=12\n",
    "ms=[staggered_magnetization(2,2,beta,j1) for j1 in js]\n",
    "plt.plot(js,ms,label=f\"beta={beta}\")\n",
    "print(ms)\n",
    "plt.show()\n",
    "    "
   ]
  }
 ],
 "metadata": {
  "kernelspec": {
   "display_name": "Python 3",
   "language": "python",
   "name": "python3"
  },
  "language_info": {
   "codemirror_mode": {
    "name": "ipython",
    "version": 3
   },
   "file_extension": ".py",
   "mimetype": "text/x-python",
   "name": "python",
   "nbconvert_exporter": "python",
   "pygments_lexer": "ipython3",
   "version": "3.10.12"
  }
 },
 "nbformat": 4,
 "nbformat_minor": 2
}
